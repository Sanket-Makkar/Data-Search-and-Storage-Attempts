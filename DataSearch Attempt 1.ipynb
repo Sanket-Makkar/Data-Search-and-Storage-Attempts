{
 "cells": [
  {
   "cell_type": "code",
   "execution_count": 2,
   "id": "67d3b3d0-35ff-4896-aa54-6ac9526502b0",
   "metadata": {},
   "outputs": [
    {
     "name": "stdout",
     "output_type": "stream",
     "text": [
      "what number would you like to find?\n"
     ]
    },
    {
     "name": "stdin",
     "output_type": "stream",
     "text": [
      " 5\n"
     ]
    },
    {
     "name": "stdout",
     "output_type": "stream",
     "text": [
      "Elapsed time: 0.0004 seconds\n",
      "Var we found: 5\n",
      "Var position: 39\n",
      "table: \n",
      "[88, 87, 22, 32, 35, 16, 0, 51, 59, 11, 69, 15, 18, 48, 101, 48, 30, 41, 4, 37, 107, 87, 56, 17, 92, 48, 74, 48, 58, 34, 47, 7, 99, 2, 38, 96, 64, 89, 9, 5, 99, 61, 55, 85, 39, 24, 12, 7, 33, 28, 94, 96, 42, 34, 14, 62, 44, 92, 78, 12, 19, 103, 47, 78, 23, 108, 20, 74, 15, 68, 21, 21, 85, 23, 37, 87, 19, 103, 39, 62, 47, 91, 93, 31, 7, 61, 65, 99, 69, 85, 88, 16, 81, 92, 68, 36, 40, 36, 103, 58, 58, 45, 47, 12, 91, 96, 33, 90]\n",
      "Elapsed time: 0.0003 seconds\n",
      "Var we found: 90\n",
      "Var position: 107\n",
      "table: \n",
      "[88, 87, 22, 32, 35, 16, 0, 51, 59, 11, 69, 15, 18, 48, 101, 48, 30, 41, 4, 37, 107, 87, 56, 17, 92, 48, 74, 48, 58, 34, 47, 7, 99, 2, 38, 96, 64, 89, 9, 5, 99, 61, 55, 85, 39, 24, 12, 7, 33, 28, 94, 96, 42, 34, 14, 62, 44, 92, 78, 12, 19, 103, 47, 78, 23, 108, 20, 74, 15, 68, 21, 21, 85, 23, 37, 87, 19, 103, 39, 62, 47, 91, 93, 31, 7, 61, 65, 99, 69, 85, 88, 16, 81, 92, 68, 36, 40, 36, 103, 58, 58, 45, 47, 12, 91, 96, 33, 90]\n"
     ]
    }
   ],
   "source": [
    "from codetiming import Timer\n",
    "import logging\n",
    "from random import random\n",
    "max = 108\n",
    "min = 0\n",
    "datastorage = []\n",
    "divBy = 0\n",
    "thatsOurVar = 0\n",
    "posOurVar = 0\n",
    "x = 0\n",
    "donesignal = False\n",
    "while len(datastorage) < 108:\n",
    "    datastorage.append(int(random() * (max - min + 1)) + min)\n",
    "t = Timer()\n",
    "print(\"what number would you like to find?\")\n",
    "j = int(input())\n",
    "t.start()\n",
    "for i in range(108):\n",
    "    if i != 0:\n",
    "        if j%i == 0:\n",
    "            divBy = i\n",
    "for i in range(len(datastorage)):\n",
    "    if datastorage[i]%divBy == 0:\n",
    "        if datastorage[i] == j:\n",
    "            posOurVar = i\n",
    "            thatsOurVar = datastorage[i]\n",
    "t.stop()\n",
    "print(\"Var we found: \" + str(thatsOurVar))\n",
    "print(\"Var position: \" + str(posOurVar))\n",
    "print(\"table: \")\n",
    "print(datastorage)\n",
    "donesignal = False\n",
    "t.start()\n",
    "while x < len(datastorage) and donesignal != True:\n",
    "    if datastorage[x] == j:\n",
    "        posOurVar = i\n",
    "        thatsOurVar = datastorage[i]\n",
    "        donesignal = True\n",
    "    x += 1\n",
    "t.stop()\n",
    "print(\"Var we found: \" + str(thatsOurVar))\n",
    "print(\"Var position: \" + str(posOurVar))\n",
    "print(\"table: \")\n",
    "print(datastorage)"
   ]
  },
  {
   "cell_type": "code",
   "execution_count": null,
   "id": "894fcc03-21fc-409a-bd2d-6c6012bcee4d",
   "metadata": {},
   "outputs": [],
   "source": []
  }
 ],
 "metadata": {
  "kernelspec": {
   "display_name": "Python 3",
   "language": "python",
   "name": "python3"
  },
  "language_info": {
   "codemirror_mode": {
    "name": "ipython",
    "version": 3
   },
   "file_extension": ".py",
   "mimetype": "text/x-python",
   "name": "python",
   "nbconvert_exporter": "python",
   "pygments_lexer": "ipython3",
   "version": "3.9.5"
  }
 },
 "nbformat": 4,
 "nbformat_minor": 5
}
